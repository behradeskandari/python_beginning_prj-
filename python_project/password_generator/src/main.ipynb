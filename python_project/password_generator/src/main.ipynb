{
 "cells": [
  {
   "cell_type": "markdown",
   "metadata": {},
   "source": [
    "- Parent: password generator\n",
    " - Abstract\n",
    " - Methods: init, generator\n",
    "- Random password generator\n",
    "- Memorable password generator\n",
    "- Pin generator\n"
   ]
  },
  {
   "cell_type": "code",
   "execution_count": 1,
   "metadata": {},
   "outputs": [
    {
     "name": "stderr",
     "output_type": "stream",
     "text": [
      "[nltk_data] Downloading package words to /home/behrad_es/nltk_data...\n",
      "[nltk_data]   Package words is already up-to-date!\n"
     ]
    }
   ],
   "source": [
    "from abc import ABC, abstractmethod\n",
    "import random\n",
    "import string\n",
    "import nltk\n",
    "nltk.download('words')\n",
    "class PasswordGenerator(ABC):\n",
    "    @abstractmethod\n",
    "    def generate(self):\n",
    "        pass"
   ]
  },
  {
   "cell_type": "code",
   "execution_count": 85,
   "metadata": {},
   "outputs": [
    {
     "data": {
      "text/plain": [
       "236736"
      ]
     },
     "execution_count": 85,
     "metadata": {},
     "output_type": "execute_result"
    }
   ],
   "source": [
    "len(nltk.corpus.words.words())"
   ]
  },
  {
   "cell_type": "code",
   "execution_count": 86,
   "metadata": {},
   "outputs": [],
   "source": [
    "class PinGenerator(PasswordGenerator):\n",
    "    def __init__(self, length) -> None:\n",
    "        self.length = length\n",
    "\n",
    "\n",
    "    def generate(self) -> str:\n",
    "        return ''.join(random.choice(string.digits) for _ in range(self.length))"
   ]
  },
  {
   "cell_type": "code",
   "execution_count": 87,
   "metadata": {},
   "outputs": [],
   "source": [
    "class RandomPasswordGenerator(PasswordGenerator):\n",
    "    def __init__(self, length: int, include_symbols: bool = False, include_numbers: bool = False) -> None:\n",
    "        self.length = length\n",
    "        self.charactor = string.ascii_letters\n",
    "        if include_numbers:\n",
    "            self.charactor += string.digits\n",
    "        if include_symbols:\n",
    "            self.charactor += string.punctuation\n",
    "\n",
    "    def generate(self) -> str:\n",
    "        return ''.join(random.choice(self.charactor) for _ in range(self.length))\n",
    "        "
   ]
  },
  {
   "cell_type": "code",
   "execution_count": 94,
   "metadata": {},
   "outputs": [],
   "source": [
    "# vocabulary = ['Behrad', 'Ali', 'Sara', 'Mahan', 'Kosar', 'Mahsa']\n",
    "\n",
    "class MemorablePasswordGenerator(PasswordGenerator):\n",
    "    def __init__(\n",
    "        self,\n",
    "        num_of_word: int = 4,\n",
    "        seperator: str = '-',\n",
    "        capitalization: bool = False, \n",
    "        vocabulary: list = None\n",
    "    ):\n",
    "        if vocabulary is None:\n",
    "            self.vocabulary = nltk.corpus.words.words()\n",
    "        self.num_of_word = num_of_word\n",
    "        self.capitalization = capitalization\n",
    "        self.seperator = seperator\n",
    "\n",
    "    def generate(self):\n",
    "        password_words = [random.choice(self.vocabulary) for _ in range(self.num_of_word)]\n",
    "        if self.capitalization:\n",
    "            password_words = [word.upper() if random.choice([True, False]) else word.lower() for word in password_words]\n",
    "            \n",
    "            return self.seperator.join(password_words)\n"
   ]
  },
  {
   "cell_type": "code",
   "execution_count": 95,
   "metadata": {},
   "outputs": [
    {
     "data": {
      "text/plain": [
       "'sheepify-SINNEN-NAPE-girdingly'"
      ]
     },
     "execution_count": 95,
     "metadata": {},
     "output_type": "execute_result"
    }
   ],
   "source": [
    "pass_word = MemorablePasswordGenerator(capitalization=True)\n",
    "pass_word.generate()"
   ]
  },
  {
   "cell_type": "code",
   "execution_count": null,
   "metadata": {},
   "outputs": [],
   "source": []
  },
  {
   "cell_type": "code",
   "execution_count": null,
   "metadata": {},
   "outputs": [],
   "source": []
  }
 ],
 "metadata": {
  "kernelspec": {
   "display_name": "Python 3 (ipykernel)",
   "language": "python",
   "name": "python3"
  },
  "language_info": {
   "codemirror_mode": {
    "name": "ipython",
    "version": 3
   },
   "file_extension": ".py",
   "mimetype": "text/x-python",
   "name": "python",
   "nbconvert_exporter": "python",
   "pygments_lexer": "ipython3",
   "version": "3.9.7"
  }
 },
 "nbformat": 4,
 "nbformat_minor": 4
}
