{
 "cells": [
  {
   "cell_type": "markdown",
   "metadata": {},
   "source": [
    "- get player choice\n",
    "- get computer choice\n",
    "- get winner\n",
    "- print winner\n",
    "- play again?"
   ]
  },
  {
   "cell_type": "code",
   "execution_count": 5,
   "metadata": {},
   "outputs": [],
   "source": [
    "import random\n",
    "\n",
    "\n",
    "class RockPaperScissers:\n",
    "    def __init__(self, name):\n",
    "        self.choice = ['rock', 'paper', 'scissers']\n",
    "        self.player_name = name\n",
    "\n",
    "    def get_player_choice(self):\n",
    "        user_choice = input(f'Enter your choice ({self.choice}): ')\n",
    "        if user_choice.lower() in self.choice:\n",
    "            return user_choice.lower()\n",
    "        \n",
    "        print(f'Invalid choice you must select from {self.choice}')\n",
    "        return self.get_player_choice()\n",
    "\n",
    "    def get_computer_choice(self):\n",
    "        return random.choice(self.choice)\n",
    "\n",
    "    def decide_winner(self, user_choice, computer_choice):\n",
    "        if user_choice == computer_choice:\n",
    "            return \"it's Tie!\"\n",
    "        win_combinations = [('paper', 'rock'), ('scissors', 'paper'), ('rock', 'scissors')]\n",
    "        \n",
    "        for winner in win_combinations:\n",
    "            if (user_choice == winner[0]) & (computer_choice == winner[1]):\n",
    "                return f\"congrats, {self.player_name} win!\"\n",
    "            else:\n",
    "                return 'oh no!, computer won!'\n",
    "        \n",
    "    # play\n",
    "    def play(self):\n",
    "        user_choice = self.get_player_choice()\n",
    "        computer_choice = self.get_computer_choice()\n",
    "        winner_msg = self.decide_winner(user_choice, computer_choice)\n",
    "        print(computer_choice)\n",
    "        print(winner_msg)\n",
    "\n",
    "    # while True:\n",
    "    #     game.play()\n",
    "\n",
    "    #     continue_game = input('Do you want play again? Enter any key to continue and enter q/Q to break.')\n",
    "    #     if continue_game.lower() == 'q':\n",
    "    #         break"
   ]
  },
  {
   "cell_type": "markdown",
   "metadata": {},
   "source": []
  },
  {
   "cell_type": "code",
   "execution_count": 6,
   "metadata": {},
   "outputs": [
    {
     "name": "stdout",
     "output_type": "stream",
     "text": [
      "Invalid choice you must select from ['rock', 'paper', 'scissers']\n",
      "paper\n",
      "it's Tie!\n",
      "rock\n",
      "congrats, Behrad win!\n",
      "Invalid choice you must select from ['rock', 'paper', 'scissers']\n",
      "Invalid choice you must select from ['rock', 'paper', 'scissers']\n",
      "Invalid choice you must select from ['rock', 'paper', 'scissers']\n",
      "Invalid choice you must select from ['rock', 'paper', 'scissers']\n",
      "Invalid choice you must select from ['rock', 'paper', 'scissers']\n",
      "Invalid choice you must select from ['rock', 'paper', 'scissers']\n",
      "Invalid choice you must select from ['rock', 'paper', 'scissers']\n",
      "Invalid choice you must select from ['rock', 'paper', 'scissers']\n"
     ]
    }
   ],
   "source": [
    "while True:\n",
    "    game = RockPaperScissers('Behrad')\n",
    "    game.play()\n",
    "    continue_game = input(\"Do you want to play again? (Enter any key to continue or 'q' to quit): \")\n",
    "    if continue_game.lower() == 'q':\n",
    "        break"
   ]
  },
  {
   "cell_type": "code",
   "execution_count": 1,
   "metadata": {},
   "outputs": [
    {
     "ename": "NameError",
     "evalue": "name 'fkka' is not defined",
     "output_type": "error",
     "traceback": [
      "\u001b[0;31m---------------------------------------------------------------------------\u001b[0m",
      "\u001b[0;31mNameError\u001b[0m                                 Traceback (most recent call last)",
      "\u001b[0;32m/tmp/ipykernel_18086/2225019463.py\u001b[0m in \u001b[0;36m<module>\u001b[0;34m\u001b[0m\n\u001b[0;32m----> 1\u001b[0;31m \u001b[0mfkka\u001b[0m\u001b[0;34m\u001b[0m\u001b[0;34m\u001b[0m\u001b[0m\n\u001b[0m",
      "\u001b[0;31mNameError\u001b[0m: name 'fkka' is not defined"
     ]
    }
   ],
   "source": [
    "\n"
   ]
  },
  {
   "cell_type": "code",
   "execution_count": null,
   "metadata": {},
   "outputs": [],
   "source": []
  }
 ],
 "metadata": {
  "kernelspec": {
   "display_name": "Python 3",
   "language": "python",
   "name": "python3"
  },
  "language_info": {
   "codemirror_mode": {
    "name": "ipython",
    "version": 3
   },
   "file_extension": ".py",
   "mimetype": "text/x-python",
   "name": "python",
   "nbconvert_exporter": "python",
   "pygments_lexer": "ipython3",
   "version": "3.9.7"
  }
 },
 "nbformat": 4,
 "nbformat_minor": 2
}
