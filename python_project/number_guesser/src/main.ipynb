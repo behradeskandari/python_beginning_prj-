{
 "cells": [
  {
   "cell_type": "code",
   "execution_count": 1,
   "metadata": {},
   "outputs": [],
   "source": [
    "import random\n"
   ]
  },
  {
   "cell_type": "markdown",
   "metadata": {},
   "source": []
  },
  {
   "cell_type": "code",
   "execution_count": 2,
   "metadata": {},
   "outputs": [],
   "source": [
    "rand_num = random.randint(1, 100)"
   ]
  },
  {
   "cell_type": "markdown",
   "metadata": {},
   "source": []
  },
  {
   "cell_type": "code",
   "execution_count": 3,
   "metadata": {},
   "outputs": [],
   "source": [
    "user_guess = input('Guess number between 1and 100: ')\n"
   ]
  },
  {
   "cell_type": "code",
   "execution_count": 4,
   "metadata": {},
   "outputs": [
    {
     "name": "stdout",
     "output_type": "stream",
     "text": [
      "Your guess is low\n",
      "Your guess is low\n",
      "Your guess is high\n",
      "Your guess is low\n",
      "Your guess is low\n",
      "well done your guess is true, random number was 66 and your score is 90\n"
     ]
    }
   ],
   "source": [
    "score = 100\n",
    "while True : \n",
    "    user_guess = input('Guess number between 1and 100: ')\n",
    "\n",
    "    if user_guess == 'q':\n",
    "        print('Thank you for playing')\n",
    "        break\n",
    "    elif not user_guess.isdigit():\n",
    "        print('Invalid input.Please try again.')\n",
    "        score -= 5\n",
    "        continue\n",
    "    else:\n",
    "        user_guess = int(user_guess)\n",
    "        if user_guess > 100 or user_guess < 1:\n",
    "            print('Your user guess is out of range. Please continue')\n",
    "            score -= 5\n",
    "            continue\n",
    "        \n",
    "        if rand_num > user_guess:\n",
    "            print('Your guess is low')\n",
    "            score -= 2\n",
    "            continue\n",
    "        elif rand_num < user_guess:\n",
    "            print('Your guess is high')\n",
    "            score -= 2\n",
    "            continue\n",
    "        else:\n",
    "            print(f'well done your guess is true, random number was {rand_num} and your score is {score}')\n",
    "            break\n"
   ]
  },
  {
   "cell_type": "code",
   "execution_count": 6,
   "metadata": {},
   "outputs": [
    {
     "data": {
      "text/plain": [
       "40"
      ]
     },
     "execution_count": 6,
     "metadata": {},
     "output_type": "execute_result"
    }
   ],
   "source": [
    "rand_num"
   ]
  },
  {
   "cell_type": "code",
   "execution_count": null,
   "metadata": {},
   "outputs": [],
   "source": []
  }
 ],
 "metadata": {
  "kernelspec": {
   "display_name": "Python 3 (ipykernel)",
   "language": "python",
   "name": "python3"
  },
  "language_info": {
   "codemirror_mode": {
    "name": "ipython",
    "version": 3
   },
   "file_extension": ".py",
   "mimetype": "text/x-python",
   "name": "python",
   "nbconvert_exporter": "python",
   "pygments_lexer": "ipython3",
   "version": "3.9.7"
  }
 },
 "nbformat": 4,
 "nbformat_minor": 4
}
